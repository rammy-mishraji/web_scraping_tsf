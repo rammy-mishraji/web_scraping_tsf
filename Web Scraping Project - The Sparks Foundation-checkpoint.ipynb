{
 "cells": [
  {
   "cell_type": "code",
   "execution_count": 85,
   "id": "6d11b938",
   "metadata": {},
   "outputs": [],
   "source": [
    "# Importing necessary libraries\n",
    "import time\n",
    "from selenium import webdriver\n",
    "from selenium.common.exceptions import NoSuchElementException\n",
    "import warnings\n",
    "warnings.filterwarnings('ignore')"
   ]
  },
  {
   "cell_type": "code",
   "execution_count": 86,
   "id": "84975465",
   "metadata": {},
   "outputs": [],
   "source": [
    "driver = webdriver.Chrome()"
   ]
  },
  {
   "cell_type": "code",
   "execution_count": 87,
   "id": "2e458f90",
   "metadata": {},
   "outputs": [],
   "source": [
    "driver.get(\"https://www.thesparksfoundationsingapore.org/\")"
   ]
  },
  {
   "cell_type": "code",
   "execution_count": 88,
   "id": "aa85098a",
   "metadata": {
    "scrolled": false
   },
   "outputs": [],
   "source": [
    "# TEST PAGE 1 WITH TWO ELEMENTS:\n",
    "try:\n",
    "    about_us = driver.find_element_by_link_text('About Us')\n",
    "    about_us.click()\n",
    "    time.sleep(2)\n",
    "    vision = driver.find_element_by_link_text('Vision, Mission and Values')\n",
    "    vision.click()\n",
    "    time.sleep(2)\n",
    "    about_us = driver.find_element_by_link_text('About Us')\n",
    "    about_us.click()\n",
    "    time.sleep(2)\n",
    "    exe_team = driver.find_element_by_link_text('Executive Team')\n",
    "    exe_team.click()\n",
    "except NoSuchElementException:\n",
    "    print(\"Vision, Mission and Values & Executive Team page does not exist.\\n\")"
   ]
  },
  {
   "cell_type": "code",
   "execution_count": 89,
   "id": "b271f3bf",
   "metadata": {},
   "outputs": [
    {
     "name": "stdout",
     "output_type": "stream",
     "text": [
      "Title Exists.\n",
      "\n",
      "Logo Exists.\n",
      "\n"
     ]
    }
   ],
   "source": [
    "# TEST PAGE 2 WITH TWO ELEMENTS:\n",
    "try:\n",
    "    title = driver.find_element_by_partial_link_text(\"The Sparks Foundation\")\n",
    "    title.click()\n",
    "    print(\"Title Exists.\\n\")\n",
    "    logo = driver.find_elements_by_xpath(\"//*[@id='home']/div/div[1]/h1/a/img\")\n",
    "    print(\"Logo Exists.\\n\")\n",
    "except NoSuchElementException:\n",
    "    print(\"Title & Logo does not exist.\\n\")"
   ]
  },
  {
   "cell_type": "code",
   "execution_count": 90,
   "id": "be9655c5",
   "metadata": {},
   "outputs": [],
   "source": [
    "# TEST PAGE 3 WITH TWO ELEMENTS:\n",
    "try:\n",
    "    policies_code = driver.find_element_by_link_text(\"Policies and Code\")\n",
    "    policies_code.click()\n",
    "    time.sleep(2)\n",
    "    policies = driver.find_element_by_link_text(\"Policies\")\n",
    "    policies.click()\n",
    "    time.sleep(2)\n",
    "    policies_code = driver.find_element_by_link_text(\"Policies and Code\")\n",
    "    policies_code.click()\n",
    "    time.sleep(2)\n",
    "    code = driver.find_element_by_link_text(\"Code of Ethics and Conduct\")\n",
    "    code.click()\n",
    "except NoSuchElementException:\n",
    "    print(\"Policies and Code page does not exist.\\n\")"
   ]
  },
  {
   "cell_type": "code",
   "execution_count": 91,
   "id": "8b886f19",
   "metadata": {},
   "outputs": [],
   "source": [
    "# TEST PAGE 4 WITH TWO ELEMENTS:\n",
    "try:\n",
    "    programs = driver.find_element_by_link_text(\"Programs\")\n",
    "    programs.click()\n",
    "    time.sleep(2)\n",
    "    st_scholar = driver.find_element_by_link_text(\"Student Scholarship Program\")\n",
    "    st_scholar.click()\n",
    "    time.sleep(2)\n",
    "    programs = driver.find_element_by_link_text(\"Programs\")\n",
    "    programs.click()\n",
    "    time.sleep(2)\n",
    "    st_mentor = driver.find_element_by_link_text(\"Student Mentorship Program\")\n",
    "    st_mentor.click()\n",
    "except NoSuchElementException:\n",
    "    print(\"Student Scholarship & Mentorship page does not exist.\\n\")"
   ]
  },
  {
   "cell_type": "code",
   "execution_count": 92,
   "id": "87a977d4",
   "metadata": {},
   "outputs": [],
   "source": [
    "# TEST PAGE 5 WITH TWO ELEMENTS:\n",
    "try:\n",
    "    links = driver.find_element_by_link_text(\"LINKS\")\n",
    "    links.click()\n",
    "    time.sleep(2)\n",
    "    software = driver.find_element_by_link_text(\"Software & App\")\n",
    "    software.click()\n",
    "    time.sleep(2)\n",
    "    links = driver.find_element_by_link_text(\"LINKS\")\n",
    "    links.click()\n",
    "    time.sleep(2)\n",
    "    ai_edu = driver.find_element_by_link_text(\"AI in Education\")\n",
    "    ai_edu.click()\n",
    "except NoSuchElementException:\n",
    "    print(\"LINKS page does not exist.\\n\")"
   ]
  },
  {
   "cell_type": "code",
   "execution_count": 93,
   "id": "04b11f90",
   "metadata": {},
   "outputs": [],
   "source": [
    "# TEST PAGE 6 WITH TWO ELEMENTS:\n",
    "try:\n",
    "    join_us = driver.find_element_by_link_text(\"Join Us\")\n",
    "    join_us.click()\n",
    "    time.sleep(2)\n",
    "    why_join_us = driver.find_element_by_link_text(\"Why Join Us\")\n",
    "    why_join_us.click()\n",
    "    time.sleep(2)\n",
    "    join_us = driver.find_element_by_link_text(\"Join Us\")\n",
    "    join_us.click()\n",
    "    time.sleep(2)\n",
    "    brand_ambassador = driver.find_element_by_link_text(\"Brand Ambassador\")\n",
    "    brand_ambassador.click()\n",
    "except NoSuchElementException:\n",
    "    print(\"Join Us page does not exist.\\n\")"
   ]
  },
  {
   "cell_type": "code",
   "execution_count": 94,
   "id": "5b342eae",
   "metadata": {},
   "outputs": [
    {
     "name": "stdout",
     "output_type": "stream",
     "text": [
      "Web Scraping Journey Completed Successfully\n"
     ]
    }
   ],
   "source": [
    "# TEST PAGE 7 WITH TWO ELEMENTS:\n",
    "try:\n",
    "    contact_us = driver.find_element_by_link_text(\"Contact Us\")\n",
    "    contact_us.click()\n",
    "    time.sleep(2)\n",
    "    join_tsf_link = driver.find_element_by_link_text(\"JOIN TSF NETWORK HERE (https://www.linkedin.com/groups/10379184/)\")\n",
    "    join_tsf_link.click()\n",
    "    time.sleep(2)\n",
    "    driver.back()\n",
    "    title = driver.find_element_by_partial_link_text(\"The Sparks Foundation\")\n",
    "    title.click()\n",
    "    print(\"Web Scraping Journey Completed Successfully\")\n",
    "except NoSuchElementException:\n",
    "    print(\"Contact Us page does not exist.\\n\")"
   ]
  },
  {
   "cell_type": "code",
   "execution_count": null,
   "id": "48838f60",
   "metadata": {},
   "outputs": [],
   "source": []
  }
 ],
 "metadata": {
  "kernelspec": {
   "display_name": "Python 3 (ipykernel)",
   "language": "python",
   "name": "python3"
  },
  "language_info": {
   "codemirror_mode": {
    "name": "ipython",
    "version": 3
   },
   "file_extension": ".py",
   "mimetype": "text/x-python",
   "name": "python",
   "nbconvert_exporter": "python",
   "pygments_lexer": "ipython3",
   "version": "3.9.7"
  }
 },
 "nbformat": 4,
 "nbformat_minor": 5
}
